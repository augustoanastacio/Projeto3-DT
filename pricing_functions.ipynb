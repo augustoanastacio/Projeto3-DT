{
 "cells": [
  {
   "cell_type": "markdown",
   "metadata": {},
   "source": [
    "## Library"
   ]
  },
  {
   "cell_type": "code",
   "execution_count": 3,
   "metadata": {},
   "outputs": [],
   "source": [
    "import requests\n",
    "import random\n",
    "import pandas as pd\n",
    "import time\n",
    "import math\n",
    "from copy import deepcopy\n",
    "from statistics import mean"
   ]
  },
  {
   "cell_type": "markdown",
   "metadata": {},
   "source": [
    "## Notebook"
   ]
  },
  {
   "cell_type": "markdown",
   "metadata": {},
   "source": [
    "#### Requisição"
   ]
  },
  {
   "cell_type": "code",
   "execution_count": 4,
   "metadata": {},
   "outputs": [],
   "source": [
    "def request() -> list:   \n",
    "    res = requests.get('http://localhost:3000/api/ep1')\n",
    "    return res.json()"
   ]
  },
  {
   "cell_type": "markdown",
   "metadata": {},
   "source": [
    "#### Tratamento de Dados"
   ]
  },
  {
   "cell_type": "code",
   "execution_count": 5,
   "metadata": {},
   "outputs": [],
   "source": [
    "def data_treatment(json:list):\n",
    "    for i in range(len(json)):\n",
    "        for key in json[i]:\n",
    "            if ('prod' in key):\n",
    "                if (type(json[i][key])!=dict):\n",
    "                    qnt = json[i][key]\n",
    "                    if (type(qnt)==str):\n",
    "                        qnt = float(qnt)                  \n",
    "                    if (qnt<0):\n",
    "                        qnt = 0\n",
    "                    if (key in [product for product in json[i] if ('prod' in product and (int(product[5]) < 9 and len(product) < 7))]):\n",
    "                        json[i][key] = {'qnt':[round(qnt)], 'price':None}\n",
    "                    else:\n",
    "                        json[i][key] = {'qnt':[qnt], 'price':None}\n",
    "        try:\n",
    "            json[i]['date'] = time.ctime(json[i]['date'])\n",
    "        except:\n",
    "            continue\n",
    "    return json"
   ]
  },
  {
   "cell_type": "markdown",
   "metadata": {},
   "source": [
    "#### Gerar valores aleatórios"
   ]
  },
  {
   "cell_type": "code",
   "execution_count": 6,
   "metadata": {},
   "outputs": [],
   "source": [
    "def generate_random_price(n_min=1.0, n_max=100.0) -> float:\n",
    "    return round(random.uniform(n_min, n_max), 2)"
   ]
  },
  {
   "cell_type": "markdown",
   "metadata": {},
   "source": [
    "#### Precificação"
   ]
  },
  {
   "cell_type": "markdown",
   "metadata": {},
   "source": [
    "##### Função logistica -> A mesma postada no doc pelo professor"
   ]
  },
  {
   "cell_type": "code",
   "execution_count": 7,
   "metadata": {},
   "outputs": [],
   "source": [
    "def logistic_function(v: float) -> float:\n",
    "    return 0.5 + (1 / (1 + math.e ** -v))"
   ]
  },
  {
   "cell_type": "markdown",
   "metadata": {},
   "source": [
    "##### Função para calcular a variação -> A mesma postada no doc pelo professor"
   ]
  },
  {
   "cell_type": "code",
   "execution_count": 8,
   "metadata": {},
   "outputs": [],
   "source": [
    "def calc_qnt_variation(last_week: list, current_week: list) -> float:\n",
    "    return mean(current_week) - mean(last_week) / mean(last_week) if (mean(last_week) != 0) else 0"
   ]
  },
  {
   "cell_type": "markdown",
   "metadata": {},
   "source": [
    "##### Função que calcula o preço que será utilizado na semana seguinte"
   ]
  },
  {
   "cell_type": "code",
   "execution_count": 9,
   "metadata": {},
   "outputs": [],
   "source": [
    "def calc_new_price(product_db: dict, sales_week: dict) -> dict:\n",
    "    for product in product_db:\n",
    "        if (product_db[product]['qnt'] != None):\n",
    "            if (product not in sales_week.keys()):\n",
    "                sales_week[product] = [0]\n",
    "            product_db[product]['next_week_price'] = logistic_function(calc_qnt_variation(product_db[product]['qnt'], sales_week[product])) * product_db[product]['price']\n",
    "        product_db[product]['qnt'] = sales_week[product]               \n",
    "    return product_db"
   ]
  },
  {
   "cell_type": "markdown",
   "metadata": {},
   "source": [
    "##### Função que atualiza o banco de dados (onde consta a quantidade de vendas da última semana e o preço dos produtos) e aplica o preço nos produtos do JSON"
   ]
  },
  {
   "cell_type": "code",
   "execution_count": 10,
   "metadata": {},
   "outputs": [],
   "source": [
    "def product_pricing(json: list, product_db: dict) -> tuple:\n",
    "    sales_week = {}\n",
    "\n",
    "    for transaction in json:\n",
    "        for key in transaction:\n",
    "            if ('prod' in key):\n",
    "                if (key not in product_db.keys()):\n",
    "                    transaction[key]['price'] = generate_random_price()\n",
    "                    sales_week[key] = deepcopy(transaction[key]['qnt'])\n",
    "                    product_db[key] = deepcopy(transaction[key])\n",
    "                    product_db[key]['qnt'] = None\n",
    "                    product_db[key]['next_week_price'] = product_db[key]['price']              \n",
    "                else:\n",
    "                    transaction[key]['price'] = deepcopy(product_db[key]['next_week_price'])\n",
    "                    product_db[key]['price'] = product_db[key]['next_week_price']\n",
    "                    if (key not in sales_week.keys()):\n",
    "                        sales_week[key] = deepcopy(transaction[key]['qnt'])\n",
    "                    else:\n",
    "                        sales_week[key] += deepcopy(transaction[key]['qnt'])\n",
    "\n",
    "    product_db = calc_new_price(product_db, sales_week)\n",
    "\n",
    "    return json, product_db"
   ]
  },
  {
   "cell_type": "markdown",
   "metadata": {},
   "source": [
    "##### Função que formata o DataFrame"
   ]
  },
  {
   "cell_type": "code",
   "execution_count": 11,
   "metadata": {},
   "outputs": [],
   "source": [
    "def df_to_print(json, all_df):\n",
    "    for transacao in json:\n",
    "        json_to_df = deepcopy(transacao)\n",
    "        date = json_to_df['date']\n",
    "        id = json_to_df['id']\n",
    "        del json_to_df['date']\n",
    "        del json_to_df['id']\n",
    "        df = pd.DataFrame(json_to_df).T\n",
    "        df['id'] = id\n",
    "        df['date'] = date\n",
    "        df = pd.concat([all_df, df])\n",
    "        #df=df.set_index(['date','id'])\n",
    "   \n",
    "    return df"
   ]
  },
  {
   "cell_type": "markdown",
   "metadata": {},
   "source": [
    "#### Main"
   ]
  },
  {
   "cell_type": "code",
   "execution_count": 22,
   "metadata": {},
   "outputs": [],
   "source": [
    "product_database = {}\n",
    "weeks = 3\n",
    "all_df = pd.DataFrame([])\n",
    "\n",
    "for week in range(weeks):\n",
    "    json = data_treatment(request())\n",
    "    json, product_database = product_pricing(json, product_database)\n",
    "\n",
    "    all_df = df_to_print(json=json, all_df=all_df)\n",
    "        \n",
    "all_df=all_df.reset_index().rename(columns={'index':'product'}).set_index('id').reset_index()"
   ]
  },
  {
   "cell_type": "code",
   "execution_count": 23,
   "metadata": {},
   "outputs": [
    {
     "data": {
      "text/html": [
       "<div>\n",
       "<style scoped>\n",
       "    .dataframe tbody tr th:only-of-type {\n",
       "        vertical-align: middle;\n",
       "    }\n",
       "\n",
       "    .dataframe tbody tr th {\n",
       "        vertical-align: top;\n",
       "    }\n",
       "\n",
       "    .dataframe thead th {\n",
       "        text-align: right;\n",
       "    }\n",
       "</style>\n",
       "<table border=\"1\" class=\"dataframe\">\n",
       "  <thead>\n",
       "    <tr style=\"text-align: right;\">\n",
       "      <th></th>\n",
       "      <th>id</th>\n",
       "      <th>product</th>\n",
       "      <th>qnt</th>\n",
       "      <th>price</th>\n",
       "      <th>date</th>\n",
       "    </tr>\n",
       "  </thead>\n",
       "  <tbody>\n",
       "    <tr>\n",
       "      <th>0</th>\n",
       "      <td>labsbcmwg1fxmqcfumf</td>\n",
       "      <td>prod_0</td>\n",
       "      <td>[15]</td>\n",
       "      <td>74.09</td>\n",
       "      <td>Thu Mar 16 06:54:23 2023</td>\n",
       "    </tr>\n",
       "    <tr>\n",
       "      <th>1</th>\n",
       "      <td>labsbcmwg1fxmqcfumf</td>\n",
       "      <td>prod_1</td>\n",
       "      <td>[22]</td>\n",
       "      <td>68.94</td>\n",
       "      <td>Thu Mar 16 06:54:23 2023</td>\n",
       "    </tr>\n",
       "    <tr>\n",
       "      <th>2</th>\n",
       "      <td>labsbcmwg1fxmqcfumf</td>\n",
       "      <td>prod_4</td>\n",
       "      <td>[46]</td>\n",
       "      <td>2.3</td>\n",
       "      <td>Thu Mar 16 06:54:23 2023</td>\n",
       "    </tr>\n",
       "    <tr>\n",
       "      <th>3</th>\n",
       "      <td>labsbcmwg1fxmqcfumf</td>\n",
       "      <td>prod_5</td>\n",
       "      <td>[22]</td>\n",
       "      <td>10.71</td>\n",
       "      <td>Thu Mar 16 06:54:23 2023</td>\n",
       "    </tr>\n",
       "    <tr>\n",
       "      <th>4</th>\n",
       "      <td>labsbcmwg1fxmqcfumf</td>\n",
       "      <td>prod_6</td>\n",
       "      <td>[2]</td>\n",
       "      <td>3.72</td>\n",
       "      <td>Thu Mar 16 06:54:23 2023</td>\n",
       "    </tr>\n",
       "  </tbody>\n",
       "</table>\n",
       "</div>"
      ],
      "text/plain": [
       "                    id product   qnt  price                      date\n",
       "0  labsbcmwg1fxmqcfumf  prod_0  [15]  74.09  Thu Mar 16 06:54:23 2023\n",
       "1  labsbcmwg1fxmqcfumf  prod_1  [22]  68.94  Thu Mar 16 06:54:23 2023\n",
       "2  labsbcmwg1fxmqcfumf  prod_4  [46]    2.3  Thu Mar 16 06:54:23 2023\n",
       "3  labsbcmwg1fxmqcfumf  prod_5  [22]  10.71  Thu Mar 16 06:54:23 2023\n",
       "4  labsbcmwg1fxmqcfumf  prod_6   [2]   3.72  Thu Mar 16 06:54:23 2023"
      ]
     },
     "execution_count": 23,
     "metadata": {},
     "output_type": "execute_result"
    }
   ],
   "source": [
    "all_df.head()"
   ]
  },
  {
   "cell_type": "code",
   "execution_count": 24,
   "metadata": {},
   "outputs": [
    {
     "data": {
      "text/html": [
       "<div>\n",
       "<style scoped>\n",
       "    .dataframe tbody tr th:only-of-type {\n",
       "        vertical-align: middle;\n",
       "    }\n",
       "\n",
       "    .dataframe tbody tr th {\n",
       "        vertical-align: top;\n",
       "    }\n",
       "\n",
       "    .dataframe thead th {\n",
       "        text-align: right;\n",
       "    }\n",
       "</style>\n",
       "<table border=\"1\" class=\"dataframe\">\n",
       "  <thead>\n",
       "    <tr style=\"text-align: right;\">\n",
       "      <th></th>\n",
       "      <th>id</th>\n",
       "      <th>product</th>\n",
       "      <th>qnt</th>\n",
       "      <th>price</th>\n",
       "      <th>date</th>\n",
       "    </tr>\n",
       "  </thead>\n",
       "  <tbody>\n",
       "    <tr>\n",
       "      <th>24</th>\n",
       "      <td>labsbcrzqsf2ypniqgb</td>\n",
       "      <td>prod_7</td>\n",
       "      <td>[24]</td>\n",
       "      <td>125.22</td>\n",
       "      <td>Wed Mar 29 23:39:50 2023</td>\n",
       "    </tr>\n",
       "    <tr>\n",
       "      <th>25</th>\n",
       "      <td>labsbcrzqsf2ypniqgb</td>\n",
       "      <td>prod_8</td>\n",
       "      <td>[0]</td>\n",
       "      <td>13.95</td>\n",
       "      <td>Wed Mar 29 23:39:50 2023</td>\n",
       "    </tr>\n",
       "    <tr>\n",
       "      <th>26</th>\n",
       "      <td>labsbcrzqsf2ypniqgb</td>\n",
       "      <td>prod_10</td>\n",
       "      <td>[29.426737422066594]</td>\n",
       "      <td>122.505</td>\n",
       "      <td>Wed Mar 29 23:39:50 2023</td>\n",
       "    </tr>\n",
       "    <tr>\n",
       "      <th>27</th>\n",
       "      <td>labsbcrzqsf2ypniqgb</td>\n",
       "      <td>prod_11</td>\n",
       "      <td>[396.19385162566067]</td>\n",
       "      <td>92.4</td>\n",
       "      <td>Wed Mar 29 23:39:50 2023</td>\n",
       "    </tr>\n",
       "    <tr>\n",
       "      <th>28</th>\n",
       "      <td>labsbcrzqsf2ypniqgb</td>\n",
       "      <td>prod_15</td>\n",
       "      <td>[1653.3995409466381]</td>\n",
       "      <td>83.535</td>\n",
       "      <td>Wed Mar 29 23:39:50 2023</td>\n",
       "    </tr>\n",
       "  </tbody>\n",
       "</table>\n",
       "</div>"
      ],
      "text/plain": [
       "                     id  product                   qnt    price  \\\n",
       "24  labsbcrzqsf2ypniqgb   prod_7                  [24]   125.22   \n",
       "25  labsbcrzqsf2ypniqgb   prod_8                   [0]    13.95   \n",
       "26  labsbcrzqsf2ypniqgb  prod_10  [29.426737422066594]  122.505   \n",
       "27  labsbcrzqsf2ypniqgb  prod_11  [396.19385162566067]     92.4   \n",
       "28  labsbcrzqsf2ypniqgb  prod_15  [1653.3995409466381]   83.535   \n",
       "\n",
       "                        date  \n",
       "24  Wed Mar 29 23:39:50 2023  \n",
       "25  Wed Mar 29 23:39:50 2023  \n",
       "26  Wed Mar 29 23:39:50 2023  \n",
       "27  Wed Mar 29 23:39:50 2023  \n",
       "28  Wed Mar 29 23:39:50 2023  "
      ]
     },
     "execution_count": 24,
     "metadata": {},
     "output_type": "execute_result"
    }
   ],
   "source": [
    "all_df.tail()"
   ]
  },
  {
   "cell_type": "code",
   "execution_count": 14,
   "metadata": {},
   "outputs": [
    {
     "data": {
      "text/plain": [
       "0    labs8qyvk4p3zpqzoji\n",
       "1    labs8qyvk4p3zpqzoji\n",
       "2    labs8qyvk4p3zpqzoji\n",
       "3    labs8qyvk4p3zpqzoji\n",
       "4    labs8qyvk4p3zpqzoji\n",
       "5    labs8qyvk4p3zpqzoji\n",
       "6    labs8qyvk4p3zpqzoji\n",
       "7    labs8qyvk4p3zpqzoji\n",
       "Name: id, dtype: object"
      ]
     },
     "execution_count": 14,
     "metadata": {},
     "output_type": "execute_result"
    }
   ],
   "source": [
    "all_df['id']"
   ]
  },
  {
   "cell_type": "code",
   "execution_count": null,
   "metadata": {},
   "outputs": [],
   "source": []
  }
 ],
 "metadata": {
  "kernelspec": {
   "display_name": "Python 3.8.6 64-bit",
   "language": "python",
   "name": "python3"
  },
  "language_info": {
   "codemirror_mode": {
    "name": "ipython",
    "version": 3
   },
   "file_extension": ".py",
   "mimetype": "text/x-python",
   "name": "python",
   "nbconvert_exporter": "python",
   "pygments_lexer": "ipython3",
   "version": "3.8.6"
  },
  "orig_nbformat": 4,
  "vscode": {
   "interpreter": {
    "hash": "ce49d75d664714c9cdbfe0585b0b7902633ae41f45bc5554d08d9dd78a3267a6"
   }
  }
 },
 "nbformat": 4,
 "nbformat_minor": 2
}
