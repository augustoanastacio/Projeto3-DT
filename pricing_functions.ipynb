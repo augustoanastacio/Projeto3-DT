{
 "cells": [
  {
   "cell_type": "markdown",
   "metadata": {},
   "source": [
    "## Library"
   ]
  },
  {
   "cell_type": "code",
   "execution_count": 28,
   "metadata": {},
   "outputs": [],
   "source": [
    "import requests\n",
    "import random\n",
    "import pandas as pd\n",
    "import time\n",
    "import math\n",
    "from copy import deepcopy\n",
    "from statistics import mean"
   ]
  },
  {
   "cell_type": "markdown",
   "metadata": {},
   "source": [
    "## Notebook"
   ]
  },
  {
   "cell_type": "markdown",
   "metadata": {},
   "source": [
    "#### Requisição"
   ]
  },
  {
   "cell_type": "code",
   "execution_count": 29,
   "metadata": {},
   "outputs": [],
   "source": [
    "def request() -> list:   \n",
    "    res = requests.get('http://localhost:3000/api/ep1')\n",
    "    return res.json()"
   ]
  },
  {
   "cell_type": "markdown",
   "metadata": {},
   "source": [
    "#### Tratamento de Dados"
   ]
  },
  {
   "cell_type": "code",
   "execution_count": 30,
   "metadata": {},
   "outputs": [],
   "source": [
    "def data_treatment(json:list):\n",
    "    for i in range(len(json)):\n",
    "        for key in json[i]:\n",
    "            if ('prod' in key):\n",
    "                if (type(json[i][key])!=dict):\n",
    "                    qnt = json[i][key]\n",
    "                    if (type(qnt)==str):\n",
    "                        qnt = float(qnt)                  \n",
    "                    if (qnt<0):\n",
    "                        qnt = 0\n",
    "                    if (key in [product for product in json[i] if ('prod' in product and (int(product[5]) < 9 and len(product) < 7))]):\n",
    "                        json[i][key] = {'qnt':[round(qnt)], 'price':None}\n",
    "                    else:\n",
    "                        json[i][key] = {'qnt':[qnt], 'price':None}\n",
    "        try:\n",
    "            json[i]['date'] = time.ctime(json[i]['date'])\n",
    "        except:\n",
    "            continue\n",
    "    return json"
   ]
  },
  {
   "cell_type": "markdown",
   "metadata": {},
   "source": [
    "#### Gerar valores aleatórios"
   ]
  },
  {
   "cell_type": "code",
   "execution_count": 31,
   "metadata": {},
   "outputs": [],
   "source": [
    "def generate_random_price(n_min=1.0, n_max=100.0) -> float:\n",
    "    return round(random.uniform(n_min, n_max), 2)"
   ]
  },
  {
   "cell_type": "markdown",
   "metadata": {},
   "source": [
    "#### Precificação"
   ]
  },
  {
   "cell_type": "markdown",
   "metadata": {},
   "source": [
    "##### Função logistica -> A mesma postada no doc pelo professor"
   ]
  },
  {
   "cell_type": "code",
   "execution_count": 32,
   "metadata": {},
   "outputs": [],
   "source": [
    "def logistic_function(v: float) -> float:\n",
    "    return 0.5 + (1 / (1 + math.e ** -v))"
   ]
  },
  {
   "cell_type": "markdown",
   "metadata": {},
   "source": [
    "##### Função para calcular a variação -> A mesma postada no doc pelo professor"
   ]
  },
  {
   "cell_type": "code",
   "execution_count": 33,
   "metadata": {},
   "outputs": [],
   "source": [
    "def calc_qnt_variation(last_week: list, current_week: list) -> float:\n",
    "    return mean(current_week) - mean(last_week) / mean(last_week) if (mean(last_week) != 0) else 0"
   ]
  },
  {
   "cell_type": "markdown",
   "metadata": {},
   "source": [
    "##### Função que calcula o preço que será utilizado na semana seguinte"
   ]
  },
  {
   "cell_type": "code",
   "execution_count": 34,
   "metadata": {},
   "outputs": [],
   "source": [
    "def calc_new_price(product_db: dict, sales_week: dict) -> dict:\n",
    "    for product in product_db:\n",
    "        if (product_db[product]['qnt'] != None):\n",
    "            if (product not in sales_week.keys()):\n",
    "                sales_week[product] = [0]\n",
    "            product_db[product]['next_week_price'] = logistic_function(calc_qnt_variation(product_db[product]['qnt'], sales_week[product])) * product_db[product]['price']\n",
    "        product_db[product]['qnt'] = sales_week[product]               \n",
    "    return product_db"
   ]
  },
  {
   "cell_type": "markdown",
   "metadata": {},
   "source": [
    "##### Função que atualiza o banco de dados (onde consta a quantidade de vendas da última semana e o preço dos produtos) e aplica o preço nos produtos do JSON"
   ]
  },
  {
   "cell_type": "code",
   "execution_count": 35,
   "metadata": {},
   "outputs": [],
   "source": [
    "def product_pricing(json: list, product_db: dict) -> tuple:\n",
    "    sales_week = {}\n",
    "\n",
    "    for transaction in json:\n",
    "        for key in transaction:\n",
    "            if ('prod' in key):\n",
    "                if (key not in product_db.keys()):\n",
    "                    transaction[key]['price'] = generate_random_price()\n",
    "                    sales_week[key] = deepcopy(transaction[key]['qnt'])\n",
    "                    product_db[key] = deepcopy(transaction[key])\n",
    "                    product_db[key]['qnt'] = None\n",
    "                    product_db[key]['next_week_price'] = product_db[key]['price']              \n",
    "                else:\n",
    "                    transaction[key]['price'] = deepcopy(product_db[key]['next_week_price'])\n",
    "                    product_db[key]['price'] = product_db[key]['next_week_price']\n",
    "                    if (key not in sales_week.keys()):\n",
    "                        sales_week[key] = deepcopy(transaction[key]['qnt'])\n",
    "                    else:\n",
    "                        sales_week[key] += deepcopy(transaction[key]['qnt'])\n",
    "\n",
    "    product_db = calc_new_price(product_db, sales_week)\n",
    "\n",
    "    return json, product_db"
   ]
  },
  {
   "cell_type": "markdown",
   "metadata": {},
   "source": [
    "##### Função que formata o DataFrame"
   ]
  },
  {
   "cell_type": "code",
   "execution_count": 36,
   "metadata": {},
   "outputs": [],
   "source": [
    "def df_to_all_df(json, all_df, week):\n",
    "    for transacao in json:\n",
    "        json_to_df = deepcopy(transacao)\n",
    "        date = json_to_df['date']\n",
    "        id = json_to_df['id']\n",
    "        del json_to_df['date']\n",
    "        del json_to_df['id']\n",
    "        df = pd.DataFrame(json_to_df).T\n",
    "        df['id'] = id\n",
    "        df['date'] = date\n",
    "        df['month'] = pd.to_datetime(df['date']).dt.to_period('M')\n",
    "        df['week'] = week\n",
    "        df = pd.concat([all_df, df])\n",
    "        # df=df.set_index(['date','id'])\n",
    "\n",
    "    return df"
   ]
  },
  {
   "cell_type": "code",
   "execution_count": 37,
   "metadata": {},
   "outputs": [],
   "source": [
    "def format_all_df(all_df:pd.DataFrame):\n",
    "    all_df=all_df.reset_index().rename(columns={'index':'product'}).set_index('id').reset_index()\n",
    "    all_df['qnt'] = [float(item[0]) for item in all_df['qnt']]\n",
    "    return all_df"
   ]
  },
  {
   "cell_type": "markdown",
   "metadata": {},
   "source": [
    "#### Main"
   ]
  },
  {
   "cell_type": "code",
   "execution_count": 48,
   "metadata": {},
   "outputs": [],
   "source": [
    "product_database = {}\n",
    "weeks = 8\n",
    "all_df = pd.DataFrame([])\n",
    "\n",
    "for week in range(weeks):\n",
    "    json = data_treatment(request())\n",
    "    json, product_database = product_pricing(json, product_database)\n",
    "\n",
    "    all_df = df_to_all_df(json=json, all_df=all_df, week=week)\n",
    "        \n",
    "all_df=format_all_df(all_df=all_df)\n",
    "all_df.to_csv('allsales.csv')"
   ]
  },
  {
   "cell_type": "code",
   "execution_count": 49,
   "metadata": {},
   "outputs": [
    {
     "data": {
      "text/html": [
       "<div>\n",
       "<style scoped>\n",
       "    .dataframe tbody tr th:only-of-type {\n",
       "        vertical-align: middle;\n",
       "    }\n",
       "\n",
       "    .dataframe tbody tr th {\n",
       "        vertical-align: top;\n",
       "    }\n",
       "\n",
       "    .dataframe thead th {\n",
       "        text-align: right;\n",
       "    }\n",
       "</style>\n",
       "<table border=\"1\" class=\"dataframe\">\n",
       "  <thead>\n",
       "    <tr style=\"text-align: right;\">\n",
       "      <th></th>\n",
       "      <th>id</th>\n",
       "      <th>product</th>\n",
       "      <th>qnt</th>\n",
       "      <th>price</th>\n",
       "      <th>date</th>\n",
       "      <th>month</th>\n",
       "      <th>week</th>\n",
       "    </tr>\n",
       "  </thead>\n",
       "  <tbody>\n",
       "    <tr>\n",
       "      <th>0</th>\n",
       "      <td>lafu6eipcgf0izakn6m</td>\n",
       "      <td>prod_0</td>\n",
       "      <td>26.0</td>\n",
       "      <td>80.92</td>\n",
       "      <td>Thu Jan  7 04:59:03 2021</td>\n",
       "      <td>2021-01</td>\n",
       "      <td>0</td>\n",
       "    </tr>\n",
       "    <tr>\n",
       "      <th>1</th>\n",
       "      <td>lafu6eipcgf0izakn6m</td>\n",
       "      <td>prod_1</td>\n",
       "      <td>40.0</td>\n",
       "      <td>40.04</td>\n",
       "      <td>Thu Jan  7 04:59:03 2021</td>\n",
       "      <td>2021-01</td>\n",
       "      <td>0</td>\n",
       "    </tr>\n",
       "    <tr>\n",
       "      <th>2</th>\n",
       "      <td>lafu6eipcgf0izakn6m</td>\n",
       "      <td>prod_2</td>\n",
       "      <td>49.0</td>\n",
       "      <td>4.82</td>\n",
       "      <td>Thu Jan  7 04:59:03 2021</td>\n",
       "      <td>2021-01</td>\n",
       "      <td>0</td>\n",
       "    </tr>\n",
       "    <tr>\n",
       "      <th>3</th>\n",
       "      <td>lafu6eipcgf0izakn6m</td>\n",
       "      <td>prod_4</td>\n",
       "      <td>7.0</td>\n",
       "      <td>81.63</td>\n",
       "      <td>Thu Jan  7 04:59:03 2021</td>\n",
       "      <td>2021-01</td>\n",
       "      <td>0</td>\n",
       "    </tr>\n",
       "    <tr>\n",
       "      <th>4</th>\n",
       "      <td>lafu6eipcgf0izakn6m</td>\n",
       "      <td>prod_5</td>\n",
       "      <td>40.0</td>\n",
       "      <td>30.79</td>\n",
       "      <td>Thu Jan  7 04:59:03 2021</td>\n",
       "      <td>2021-01</td>\n",
       "      <td>0</td>\n",
       "    </tr>\n",
       "  </tbody>\n",
       "</table>\n",
       "</div>"
      ],
      "text/plain": [
       "                    id product   qnt  price                      date  \\\n",
       "0  lafu6eipcgf0izakn6m  prod_0  26.0  80.92  Thu Jan  7 04:59:03 2021   \n",
       "1  lafu6eipcgf0izakn6m  prod_1  40.0  40.04  Thu Jan  7 04:59:03 2021   \n",
       "2  lafu6eipcgf0izakn6m  prod_2  49.0   4.82  Thu Jan  7 04:59:03 2021   \n",
       "3  lafu6eipcgf0izakn6m  prod_4   7.0  81.63  Thu Jan  7 04:59:03 2021   \n",
       "4  lafu6eipcgf0izakn6m  prod_5  40.0  30.79  Thu Jan  7 04:59:03 2021   \n",
       "\n",
       "     month  week  \n",
       "0  2021-01     0  \n",
       "1  2021-01     0  \n",
       "2  2021-01     0  \n",
       "3  2021-01     0  \n",
       "4  2021-01     0  "
      ]
     },
     "execution_count": 49,
     "metadata": {},
     "output_type": "execute_result"
    }
   ],
   "source": [
    "all_df.head()"
   ]
  },
  {
   "cell_type": "code",
   "execution_count": 50,
   "metadata": {},
   "outputs": [
    {
     "data": {
      "text/html": [
       "<div>\n",
       "<style scoped>\n",
       "    .dataframe tbody tr th:only-of-type {\n",
       "        vertical-align: middle;\n",
       "    }\n",
       "\n",
       "    .dataframe tbody tr th {\n",
       "        vertical-align: top;\n",
       "    }\n",
       "\n",
       "    .dataframe thead th {\n",
       "        text-align: right;\n",
       "    }\n",
       "</style>\n",
       "<table border=\"1\" class=\"dataframe\">\n",
       "  <thead>\n",
       "    <tr style=\"text-align: right;\">\n",
       "      <th></th>\n",
       "      <th>id</th>\n",
       "      <th>product</th>\n",
       "      <th>qnt</th>\n",
       "      <th>price</th>\n",
       "      <th>date</th>\n",
       "      <th>month</th>\n",
       "      <th>week</th>\n",
       "    </tr>\n",
       "  </thead>\n",
       "  <tbody>\n",
       "    <tr>\n",
       "      <th>60</th>\n",
       "      <td>lafu6eu8s8qen147pnn</td>\n",
       "      <td>prod_3</td>\n",
       "      <td>37.000000</td>\n",
       "      <td>99.554062</td>\n",
       "      <td>Thu Feb 25 08:32:02 2021</td>\n",
       "      <td>2021-02</td>\n",
       "      <td>7</td>\n",
       "    </tr>\n",
       "    <tr>\n",
       "      <th>61</th>\n",
       "      <td>lafu6eu8s8qen147pnn</td>\n",
       "      <td>prod_4</td>\n",
       "      <td>18.000000</td>\n",
       "      <td>929.816712</td>\n",
       "      <td>Thu Feb 25 08:32:02 2021</td>\n",
       "      <td>2021-02</td>\n",
       "      <td>7</td>\n",
       "    </tr>\n",
       "    <tr>\n",
       "      <th>62</th>\n",
       "      <td>lafu6eu8s8qen147pnn</td>\n",
       "      <td>prod_8</td>\n",
       "      <td>37.000000</td>\n",
       "      <td>52.396875</td>\n",
       "      <td>Thu Feb 25 08:32:02 2021</td>\n",
       "      <td>2021-02</td>\n",
       "      <td>7</td>\n",
       "    </tr>\n",
       "    <tr>\n",
       "      <th>63</th>\n",
       "      <td>lafu6eu8s8qen147pnn</td>\n",
       "      <td>prod_11</td>\n",
       "      <td>727.483206</td>\n",
       "      <td>133.384219</td>\n",
       "      <td>Thu Feb 25 08:32:02 2021</td>\n",
       "      <td>2021-02</td>\n",
       "      <td>7</td>\n",
       "    </tr>\n",
       "    <tr>\n",
       "      <th>64</th>\n",
       "      <td>lafu6eu8s8qen147pnn</td>\n",
       "      <td>prod_15</td>\n",
       "      <td>619.698185</td>\n",
       "      <td>809.987344</td>\n",
       "      <td>Thu Feb 25 08:32:02 2021</td>\n",
       "      <td>2021-02</td>\n",
       "      <td>7</td>\n",
       "    </tr>\n",
       "  </tbody>\n",
       "</table>\n",
       "</div>"
      ],
      "text/plain": [
       "                     id  product         qnt       price  \\\n",
       "60  lafu6eu8s8qen147pnn   prod_3   37.000000   99.554062   \n",
       "61  lafu6eu8s8qen147pnn   prod_4   18.000000  929.816712   \n",
       "62  lafu6eu8s8qen147pnn   prod_8   37.000000   52.396875   \n",
       "63  lafu6eu8s8qen147pnn  prod_11  727.483206  133.384219   \n",
       "64  lafu6eu8s8qen147pnn  prod_15  619.698185  809.987344   \n",
       "\n",
       "                        date    month  week  \n",
       "60  Thu Feb 25 08:32:02 2021  2021-02     7  \n",
       "61  Thu Feb 25 08:32:02 2021  2021-02     7  \n",
       "62  Thu Feb 25 08:32:02 2021  2021-02     7  \n",
       "63  Thu Feb 25 08:32:02 2021  2021-02     7  \n",
       "64  Thu Feb 25 08:32:02 2021  2021-02     7  "
      ]
     },
     "execution_count": 50,
     "metadata": {},
     "output_type": "execute_result"
    }
   ],
   "source": [
    "all_df.tail()"
   ]
  },
  {
   "cell_type": "code",
   "execution_count": 51,
   "metadata": {},
   "outputs": [
    {
     "data": {
      "text/plain": [
       "<PeriodArray>\n",
       "['2021-01', '2021-02']\n",
       "Length: 2, dtype: period[M]"
      ]
     },
     "execution_count": 51,
     "metadata": {},
     "output_type": "execute_result"
    }
   ],
   "source": [
    "all_df['month'].unique()"
   ]
  },
  {
   "cell_type": "code",
   "execution_count": null,
   "metadata": {},
   "outputs": [],
   "source": []
  },
  {
   "cell_type": "code",
   "execution_count": null,
   "metadata": {},
   "outputs": [],
   "source": []
  }
 ],
 "metadata": {
  "kernelspec": {
   "display_name": "Python 3 (ipykernel)",
   "language": "python",
   "name": "python3"
  },
  "language_info": {
   "codemirror_mode": {
    "name": "ipython",
    "version": 3
   },
   "file_extension": ".py",
   "mimetype": "text/x-python",
   "name": "python",
   "nbconvert_exporter": "python",
   "pygments_lexer": "ipython3",
   "version": "3.9.7"
  },
  "vscode": {
   "interpreter": {
    "hash": "ce49d75d664714c9cdbfe0585b0b7902633ae41f45bc5554d08d9dd78a3267a6"
   }
  }
 },
 "nbformat": 4,
 "nbformat_minor": 4
}
