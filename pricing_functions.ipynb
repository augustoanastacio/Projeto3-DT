{
 "cells": [
  {
   "cell_type": "markdown",
   "metadata": {},
   "source": [
    "## Library"
   ]
  },
  {
   "cell_type": "code",
   "execution_count": 3,
   "metadata": {},
   "outputs": [],
   "source": [
    "import requests\n",
    "import random\n",
    "import pandas as pd\n",
    "import time\n",
    "import math\n",
    "from copy import deepcopy\n",
    "from statistics import mean"
   ]
  },
  {
   "cell_type": "markdown",
   "metadata": {},
   "source": [
    "## Notebook"
   ]
  },
  {
   "cell_type": "markdown",
   "metadata": {},
   "source": [
    "#### Requisição"
   ]
  },
  {
   "cell_type": "code",
   "execution_count": 4,
   "metadata": {},
   "outputs": [],
   "source": [
    "def request() -> list:   \n",
    "    res = requests.get('http://localhost:3000/api/ep1')\n",
    "    return res.json()"
   ]
  },
  {
   "cell_type": "markdown",
   "metadata": {},
   "source": [
    "#### Tratamento de Dados"
   ]
  },
  {
   "cell_type": "code",
   "execution_count": 5,
   "metadata": {},
   "outputs": [],
   "source": [
    "def data_treatment(json:list):\n",
    "    for i in range(len(json)):\n",
    "        for key in json[i]:\n",
    "            if ('prod' in key):\n",
    "                if (type(json[i][key])!=dict):\n",
    "                    qnt = json[i][key]\n",
    "                    if (type(qnt)==str):\n",
    "                        qnt = float(qnt)                  \n",
    "                    if (qnt<0):\n",
    "                        qnt = 0\n",
    "                    if (key in [product for product in json[i] if ('prod' in product and (int(product[5]) < 9 and len(product) < 7))]):\n",
    "                        json[i][key] = {'qnt':[round(qnt)], 'price':None}\n",
    "                    else:\n",
    "                        json[i][key] = {'qnt':[qnt], 'price':None}\n",
    "        try:\n",
    "            json[i]['date'] = time.ctime(json[i]['date'])\n",
    "        except:\n",
    "            continue\n",
    "    return json"
   ]
  },
  {
   "cell_type": "markdown",
   "metadata": {},
   "source": [
    "#### Gerar valores aleatórios"
   ]
  },
  {
   "cell_type": "code",
   "execution_count": 6,
   "metadata": {},
   "outputs": [],
   "source": [
    "def generate_random_price(n_min=1.0, n_max=100.0) -> float:\n",
    "    return round(random.uniform(n_min, n_max), 2)"
   ]
  },
  {
   "cell_type": "markdown",
   "metadata": {},
   "source": [
    "#### Precificação"
   ]
  },
  {
   "cell_type": "markdown",
   "metadata": {},
   "source": [
    "##### Função logistica -> A mesma postada no doc pelo professor"
   ]
  },
  {
   "cell_type": "code",
   "execution_count": 7,
   "metadata": {},
   "outputs": [],
   "source": [
    "def logistic_function(v: float) -> float:\n",
    "    return 0.5 + (1 / (1 + math.e ** -v))"
   ]
  },
  {
   "cell_type": "markdown",
   "metadata": {},
   "source": [
    "##### Função para calcular a variação -> A mesma postada no doc pelo professor"
   ]
  },
  {
   "cell_type": "code",
   "execution_count": 8,
   "metadata": {},
   "outputs": [],
   "source": [
    "def calc_qnt_variation(last_week: list, current_week: list) -> float:\n",
    "    return mean(current_week) - mean(last_week) / mean(last_week) if (mean(last_week) != 0) else 0"
   ]
  },
  {
   "cell_type": "markdown",
   "metadata": {},
   "source": [
    "##### Função que calcula o preço que será utilizado na semana seguinte"
   ]
  },
  {
   "cell_type": "code",
   "execution_count": 9,
   "metadata": {},
   "outputs": [],
   "source": [
    "def calc_new_price(product_db: dict, sales_week: dict) -> dict:\n",
    "    for product in product_db:\n",
    "        if (product_db[product]['qnt'] != None):\n",
    "            if (product not in sales_week.keys()):\n",
    "                sales_week[product] = [0]\n",
    "            product_db[product]['next_week_price'] = logistic_function(calc_qnt_variation(product_db[product]['qnt'], sales_week[product])) * product_db[product]['price']\n",
    "        product_db[product]['qnt'] = sales_week[product]               \n",
    "    return product_db"
   ]
  },
  {
   "cell_type": "markdown",
   "metadata": {},
   "source": [
    "##### Função que atualiza o banco de dados (onde consta a quantidade de vendas da última semana e o preço dos produtos) e aplica o preço nos produtos do JSON"
   ]
  },
  {
   "cell_type": "code",
   "execution_count": 10,
   "metadata": {},
   "outputs": [],
   "source": [
    "def product_pricing(json: list, product_db: dict) -> tuple:\n",
    "    sales_week = {}\n",
    "\n",
    "    for transaction in json:\n",
    "        for key in transaction:\n",
    "            if ('prod' in key):\n",
    "                if (key not in product_db.keys()):\n",
    "                    transaction[key]['price'] = generate_random_price()\n",
    "                    sales_week[key] = deepcopy(transaction[key]['qnt'])\n",
    "                    product_db[key] = deepcopy(transaction[key])\n",
    "                    product_db[key]['qnt'] = None\n",
    "                    product_db[key]['next_week_price'] = product_db[key]['price']              \n",
    "                else:\n",
    "                    transaction[key]['price'] = deepcopy(product_db[key]['next_week_price'])\n",
    "                    product_db[key]['price'] = product_db[key]['next_week_price']\n",
    "                    if (key not in sales_week.keys()):\n",
    "                        sales_week[key] = deepcopy(transaction[key]['qnt'])\n",
    "                    else:\n",
    "                        sales_week[key] += deepcopy(transaction[key]['qnt'])\n",
    "\n",
    "    product_db = calc_new_price(product_db, sales_week)\n",
    "\n",
    "    return json, product_db"
   ]
  },
  {
   "cell_type": "markdown",
   "metadata": {},
   "source": [
    "#### Main"
   ]
  },
  {
   "cell_type": "code",
   "execution_count": 113,
   "metadata": {},
   "outputs": [],
   "source": [
    "product_database = {}\n",
    "weeks = 3\n",
    "all_jsons = []\n",
    "\n",
    "for week in range(weeks):\n",
    "    json = data_treatment(request())\n",
    "    json, product_database = product_pricing(json, product_database)\n",
    "    all_jsons.append(json)\n"
   ]
  }
 ],
 "metadata": {
  "kernelspec": {
   "display_name": "Python 3.8.6 64-bit",
   "language": "python",
   "name": "python3"
  },
  "language_info": {
   "codemirror_mode": {
    "name": "ipython",
    "version": 3
   },
   "file_extension": ".py",
   "mimetype": "text/x-python",
   "name": "python",
   "nbconvert_exporter": "python",
   "pygments_lexer": "ipython3",
   "version": "3.8.6"
  },
  "orig_nbformat": 4,
  "vscode": {
   "interpreter": {
    "hash": "ce49d75d664714c9cdbfe0585b0b7902633ae41f45bc5554d08d9dd78a3267a6"
   }
  }
 },
 "nbformat": 4,
 "nbformat_minor": 2
}
