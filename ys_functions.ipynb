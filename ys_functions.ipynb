{
 "cells": [
  {
   "cell_type": "code",
   "execution_count": 1,
   "metadata": {},
   "outputs": [],
   "source": [
    "import pandas as pd\n",
    "from functions import data_treatment, request, product_pricing\n",
    "import seaborn as sns\n",
    "import matplotlib.pyplot as plt"
   ]
  },
  {
   "cell_type": "markdown",
   "metadata": {},
   "source": [
    "#### Main "
   ]
  },
  {
   "cell_type": "code",
   "execution_count": 4,
   "metadata": {},
   "outputs": [],
   "source": [
    "product_database = {}\n",
    "weeks = 36\n",
    "all_df = pd.DataFrame([])\n",
    "all_jsons = []\n",
    "\n",
    "for week in range(weeks):\n",
    "    json = request()\n",
    "    json = data_treatment(request())\n",
    "    json, product_database = product_pricing(json, product_database)\n",
    "    all_jsons.append(json)"
   ]
  },
  {
   "cell_type": "markdown",
   "metadata": {},
   "source": [
    "#### Function - Generating DataFrame"
   ]
  },
  {
   "cell_type": "code",
   "execution_count": 3,
   "metadata": {},
   "outputs": [],
   "source": [
    "def df_to_analysis(all_jsons:list, column_name:str):\n",
    "    new_json = {}\n",
    "    n = 0\n",
    "    for week in range(len(all_jsons)):\n",
    "        for transaction in range(len(all_jsons[week])):\n",
    "            balance = 0\n",
    "            new_json[n] = {}\n",
    "            new_json[n]['date'] = all_jsons[week][transaction]['date']\n",
    "            new_json[n]['week'] = f'Week {week+1}'\n",
    "            new_json[n]['month']=all_jsons[week][transaction]['date']\n",
    "            new_json[n]['id'] = all_jsons[week][transaction]['id']\n",
    "            #for i in range(0,21):\n",
    "                #new_json[n][f'prod_{i}'] = 0\n",
    "            for key in all_jsons[week][transaction]:\n",
    "                if ('prod' in key):\n",
    "                    if (type(all_jsons[week][transaction][key][column_name])==list): #teste\n",
    "                        new_json[n][key] = float(all_jsons[week][transaction][key][column_name][0])\n",
    "                    else:\n",
    "                        new_json[n][key] = float(all_jsons[week][transaction][key][column_name])\n",
    "                    balance += new_json[n][key]\n",
    "            n += 1  \n",
    "    df = pd.DataFrame(new_json).T\n",
    "    df['balance'] = balance\n",
    "    df['date'] = pd.to_datetime(df['date']).dt.date\n",
    "    df['month'] = pd.to_datetime(df['month']).dt.month_name()\n",
    "    df=df.fillna(0)\n",
    "\n",
    "    return df"
   ]
  },
  {
   "cell_type": "markdown",
   "metadata": {},
   "source": [
    "#### Function - Generating Consolidated DataFrame"
   ]
  },
  {
   "cell_type": "code",
   "execution_count": 7,
   "metadata": {},
   "outputs": [],
   "source": [
    "def consolidate(df_qnt:pd.DataFrame, df_price:pd.DataFrame, df_consolidate:pd.DataFrame):\n",
    "    for prod in df_qnt.columns:\n",
    "        df_consolidate[prod]=df_qnt[prod]*df_price[prod]\n",
    "    return df_consolidate"
   ]
  },
  {
   "cell_type": "markdown",
   "metadata": {},
   "source": [
    "#### Function - Creating Balance Column"
   ]
  },
  {
   "cell_type": "code",
   "execution_count": 8,
   "metadata": {},
   "outputs": [],
   "source": [
    "def balance_product(df):\n",
    "    list = []\n",
    "    for row in df.index:\n",
    "        list.append(df.loc[row].sum())\n",
    "    return list"
   ]
  },
  {
   "cell_type": "markdown",
   "metadata": {},
   "source": [
    "#### Functions - Comparation"
   ]
  },
  {
   "cell_type": "markdown",
   "metadata": {},
   "source": [
    "##### Calculating balance per number os transactions"
   ]
  },
  {
   "cell_type": "code",
   "execution_count": 10,
   "metadata": {},
   "outputs": [],
   "source": [
    "def calc_ratio(all_prices:dict, dict_dfs:dict, period: str, variable:str, unity_of_period:str):\n",
    "    num_transactions = len(all_prices[all_prices[period]==unity_of_period])\n",
    "    balance = dict_dfs[period][variable].loc[unity_of_period,'balance']\n",
    "    ratio = balance/num_transactions\n",
    "    return ratio"
   ]
  },
  {
   "cell_type": "markdown",
   "metadata": {},
   "source": [
    "##### Joining all ratios"
   ]
  },
  {
   "cell_type": "code",
   "execution_count": 11,
   "metadata": {},
   "outputs": [],
   "source": [
    "def join_all_ratios(monthly_price:dict, dict_dfs:dict, period:str, variable: str, report:bool):\n",
    "    all_ratios = []\n",
    "    for unity in dict_dfs[period][variable].index:\n",
    "        ratio = calc_ratio(dict_dfs=dict_dfs,period=period,variable=variable, unity_of_period=unity)\n",
    "        all_ratios.append(ratio)\n",
    "    if report:\n",
    "        return all_ratios\n",
    "    else:\n",
    "        fig, ax = plt.subplots(figsize=(12, 5))\n",
    "        sns.lineplot(x=monthly_price.index, y=all_ratios)\n",
    "        sns.set_style('darkgrid')"
   ]
  },
  {
   "cell_type": "markdown",
   "metadata": {},
   "source": [
    "#### Functions - Visualization"
   ]
  },
  {
   "cell_type": "markdown",
   "metadata": {},
   "source": [
    "##### Barplot"
   ]
  },
  {
   "cell_type": "code",
   "execution_count": null,
   "metadata": {},
   "outputs": [],
   "source": [
    "def print_barplot(x,y):\n",
    "    fig, ax = plt.subplots(figsize=(12, 5))\n",
    "    sns.barplot(x=x, y=y, palette=\"tab10\")\n",
    "    sns.set_style('darkgrid')"
   ]
  },
  {
   "cell_type": "markdown",
   "metadata": {},
   "source": [
    "##### Consolidating per transaction"
   ]
  },
  {
   "cell_type": "code",
   "execution_count": 13,
   "metadata": {},
   "outputs": [],
   "source": [
    "def consolidate_per_transaction(dict_dfs:dict, period:str, qnt:list, price:list):\n",
    "    consolidate = [qnt[i]*price[i] for i in range(len(qnt))]\n",
    "    print(consolidate[0])\n",
    "    fig, ax = plt.subplots(figsize=(12, 5))\n",
    "    sns.lineplot(x=dict_dfs[period]['qnt'].index, y=consolidate)\n",
    "    sns.set_style('darkgrid')"
   ]
  },
  {
   "cell_type": "markdown",
   "metadata": {},
   "source": [
    "#### Function - Barplot by Type"
   ]
  },
  {
   "cell_type": "code",
   "execution_count": 15,
   "metadata": {},
   "outputs": [],
   "source": [
    "def barplot_type(df:pd.DataFrame, type_column:list):\n",
    "    new_df= df.T\n",
    "    new_df = new_df.drop('balance')\n",
    "    new_df['type'] = type_column\n",
    "    new_df = new_df.groupby('type').agg({f'{x}':'sum' for x in new_df.columns[:-1]})\n",
    "    new_df['balance'] = balance_product(new_df)\n",
    "\n",
    "    print_barplot(x=new_df.index, y = new_df['balance'])\n",
    "    return new_df.index"
   ]
  },
  {
   "cell_type": "markdown",
   "metadata": {},
   "source": [
    "##### "
   ]
  }
 ],
 "metadata": {
  "kernelspec": {
   "display_name": "Python 3.8.6 64-bit",
   "language": "python",
   "name": "python3"
  },
  "language_info": {
   "codemirror_mode": {
    "name": "ipython",
    "version": 3
   },
   "file_extension": ".py",
   "mimetype": "text/x-python",
   "name": "python",
   "nbconvert_exporter": "python",
   "pygments_lexer": "ipython3",
   "version": "3.8.6"
  },
  "orig_nbformat": 4,
  "vscode": {
   "interpreter": {
    "hash": "ce49d75d664714c9cdbfe0585b0b7902633ae41f45bc5554d08d9dd78a3267a6"
   }
  }
 },
 "nbformat": 4,
 "nbformat_minor": 2
}
