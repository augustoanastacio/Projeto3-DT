{
 "cells": [
  {
   "cell_type": "code",
   "execution_count": 193,
   "id": "ff5be0da",
   "metadata": {},
   "outputs": [],
   "source": [
    "import requests\n",
    "import random\n",
    "import pandas as pd\n",
    "import time\n",
    "import math\n",
    "import matplotlib.pyplot as plt\n",
    "from copy import deepcopy\n",
    "from statistics import mean"
   ]
  },
  {
   "cell_type": "code",
   "execution_count": 194,
   "id": "928954ab",
   "metadata": {},
   "outputs": [],
   "source": [
    "def request() -> list:   \n",
    "    res = requests.get('http://localhost:3000/api/ep1')\n",
    "    return res.json()"
   ]
  },
  {
   "cell_type": "code",
   "execution_count": 195,
   "id": "50cc22cd",
   "metadata": {},
   "outputs": [],
   "source": [
    "def data_treatment(json:list) -> list:\n",
    "    for i in range(len(json)):\n",
    "        for key in json[i]:\n",
    "            if ('prod' in key):\n",
    "                if (type(json[i][key])!=dict):\n",
    "                    qnt = json[i][key]\n",
    "                    if (type(qnt)==str):\n",
    "                        qnt = float(qnt)                  \n",
    "                    if (qnt<0):\n",
    "                        qnt = 0\n",
    "                    if (key in [product for product in json[i] if ('prod' in product and (int(product[5]) < 9 and len(product) < 7))]):\n",
    "                        json[i][key] = {'qnt':[round(qnt)], 'price':None}\n",
    "                    else:\n",
    "                        json[i][key] = {'qnt':[qnt], 'price':None}\n",
    "        try:\n",
    "            json[i]['date'] = time.ctime(json[i]['date'])\n",
    "        except:\n",
    "            continue\n",
    "    return json"
   ]
  },
  {
   "cell_type": "code",
   "execution_count": 196,
   "id": "81fde947",
   "metadata": {},
   "outputs": [],
   "source": [
    "def generate_random_price(n_min=1.0, n_max=100.0) -> float:\n",
    "    return round(random.uniform(n_min, n_max), 2)"
   ]
  },
  {
   "cell_type": "code",
   "execution_count": 197,
   "id": "4c11b96d",
   "metadata": {},
   "outputs": [],
   "source": [
    "def logistic_function(v: float) -> float:\n",
    "    return 0.5 + (1 / (1 + math.e ** -v))"
   ]
  },
  {
   "cell_type": "code",
   "execution_count": 198,
   "id": "6a87c395",
   "metadata": {},
   "outputs": [],
   "source": [
    "def calc_qnt_variation(last_week: list, current_week: list) -> float:\n",
    "    return mean(current_week) - mean(last_week) / mean(last_week) if (mean(last_week) != 0) else 0"
   ]
  },
  {
   "cell_type": "code",
   "execution_count": 199,
   "id": "344587e9",
   "metadata": {},
   "outputs": [],
   "source": [
    "def calc_new_price(product_db: dict, sales_week: dict) -> dict:\n",
    "    for product in product_db:\n",
    "        if (product_db[product]['qnt'] != None):\n",
    "            if (product not in sales_week.keys()):\n",
    "                sales_week[product] = [0]\n",
    "            product_db[product]['next_week_price'] = logistic_function(calc_qnt_variation(product_db[product]['qnt'], sales_week[product])) * product_db[product]['price']\n",
    "        product_db[product]['qnt'] = sales_week[product]               \n",
    "    return product_db"
   ]
  },
  {
   "cell_type": "code",
   "execution_count": 200,
   "id": "bc29a780",
   "metadata": {},
   "outputs": [],
   "source": [
    "def product_pricing(json: list, product_db: dict) -> tuple:\n",
    "    sales_week = {}\n",
    "\n",
    "    for transaction in json:\n",
    "        for key in transaction:\n",
    "            if ('prod' in key):\n",
    "                if (key not in product_db.keys()):\n",
    "                    transaction[key]['price'] = generate_random_price()\n",
    "                    sales_week[key] = deepcopy(transaction[key]['qnt'])\n",
    "                    product_db[key] = deepcopy(transaction[key])\n",
    "                    product_db[key]['qnt'] = None\n",
    "                    product_db[key]['next_week_price'] = product_db[key]['price']              \n",
    "                else:\n",
    "                    transaction[key]['price'] = deepcopy(product_db[key]['next_week_price'])\n",
    "                    product_db[key]['price'] = product_db[key]['next_week_price']\n",
    "                    if (key not in sales_week.keys()):\n",
    "                        sales_week[key] = deepcopy(transaction[key]['qnt'])\n",
    "                    else:\n",
    "                        sales_week[key] += deepcopy(transaction[key]['qnt'])\n",
    "    product_db = calc_new_price(product_db, sales_week)\n",
    "    return json, product_db"
   ]
  },
  {
   "cell_type": "code",
   "execution_count": 207,
   "id": "df0ab657",
   "metadata": {},
   "outputs": [],
   "source": [
    "def df_to_all_df(json: list, all_df: pd.DataFrame, week: int) -> pd.DataFrame:\n",
    "    for transaction in json:\n",
    "        json_to_df = deepcopy(transaction)\n",
    "        date = json_to_df['date']\n",
    "        id = json_to_df['id']\n",
    "        del json_to_df['date']\n",
    "        del json_to_df['id']\n",
    "        df = pd.DataFrame(json_to_df).T\n",
    "        df['id'] = id\n",
    "        df['date'] = date\n",
    "        df['month'] = pd.to_datetime(df['date']).dt.to_period('M')\n",
    "        df['week'] = week\n",
    "        df = pd.concat([all_df, df])\n",
    "        # df=df.set_index(['date','id'])\n",
    "    return df"
   ]
  },
  {
   "cell_type": "code",
   "execution_count": 208,
   "id": "309b8a6f",
   "metadata": {},
   "outputs": [],
   "source": [
    "def format_all_df(all_df:pd.DataFrame) -> pd.DataFrame:\n",
    "    all_df=all_df.reset_index().rename(columns={'index':'product'}).set_index('id').reset_index()\n",
    "    all_df['qnt'] = [float(item[0]) for item in all_df['qnt']]\n",
    "    return all_df"
   ]
  },
  {
   "cell_type": "code",
   "execution_count": 209,
   "id": "94359071",
   "metadata": {},
   "outputs": [],
   "source": [
    "sum_all_prods = {f'prod_{i}':'sum' for i in range(20)}\n",
    "sum_all_prods['balance']='sum'"
   ]
  },
  {
   "cell_type": "code",
   "execution_count": 210,
   "id": "3b4f8d43",
   "metadata": {},
   "outputs": [],
   "source": [
    "def consolidate(df_qnt, df_price, df_consolidate):\n",
    "    for prod in df_qnt.columns:\n",
    "        df_consolidate[prod]=df_qnt[prod]*df_price[prod]\n",
    "    return df_consolidate"
   ]
  },
  {
   "cell_type": "code",
   "execution_count": 211,
   "id": "2f63a0b7",
   "metadata": {},
   "outputs": [],
   "source": [
    "def balance_product(df):\n",
    "    list = []\n",
    "    for row in df.index:\n",
    "        list.append(df.loc[row].sum())\n",
    "    return list"
   ]
  },
  {
   "cell_type": "code",
   "execution_count": 212,
   "id": "2d9d8a89",
   "metadata": {},
   "outputs": [],
   "source": [
    "product_database = {}\n",
    "weeks = 8\n",
    "all_df = pd.DataFrame([])\n",
    "\n",
    "for week in range(weeks):\n",
    "    json = data_treatment(request())\n",
    "    json, product_database = product_pricing(json, product_database)\n",
    "\n",
    "    all_df = df_to_all_df(json=json, all_df=all_df, week=week)\n",
    "        \n",
    "all_df=format_all_df(all_df=all_df)\n",
    "all_df.to_csv('allsales.csv')"
   ]
  },
  {
   "cell_type": "code",
   "execution_count": 213,
   "id": "6c7600ad",
   "metadata": {},
   "outputs": [
    {
     "data": {
      "text/html": [
       "<div>\n",
       "<style scoped>\n",
       "    .dataframe tbody tr th:only-of-type {\n",
       "        vertical-align: middle;\n",
       "    }\n",
       "\n",
       "    .dataframe tbody tr th {\n",
       "        vertical-align: top;\n",
       "    }\n",
       "\n",
       "    .dataframe thead th {\n",
       "        text-align: right;\n",
       "    }\n",
       "</style>\n",
       "<table border=\"1\" class=\"dataframe\">\n",
       "  <thead>\n",
       "    <tr style=\"text-align: right;\">\n",
       "      <th></th>\n",
       "      <th>id</th>\n",
       "      <th>product</th>\n",
       "      <th>qnt</th>\n",
       "      <th>price</th>\n",
       "      <th>date</th>\n",
       "      <th>month</th>\n",
       "      <th>week</th>\n",
       "      <th>balance</th>\n",
       "    </tr>\n",
       "  </thead>\n",
       "  <tbody>\n",
       "    <tr>\n",
       "      <th>0</th>\n",
       "      <td>lamvkeomppel4gnxyd</td>\n",
       "      <td>prod_0</td>\n",
       "      <td>35.0</td>\n",
       "      <td>45.06</td>\n",
       "      <td>Thu Oct 21 06:35:28 2021</td>\n",
       "      <td>2021-10</td>\n",
       "      <td>0</td>\n",
       "      <td>[35]</td>\n",
       "    </tr>\n",
       "    <tr>\n",
       "      <th>1</th>\n",
       "      <td>lamvkeomppel4gnxyd</td>\n",
       "      <td>prod_1</td>\n",
       "      <td>43.0</td>\n",
       "      <td>53.21</td>\n",
       "      <td>Thu Oct 21 06:35:28 2021</td>\n",
       "      <td>2021-10</td>\n",
       "      <td>0</td>\n",
       "      <td>[43]</td>\n",
       "    </tr>\n",
       "    <tr>\n",
       "      <th>2</th>\n",
       "      <td>lamvkeomppel4gnxyd</td>\n",
       "      <td>prod_4</td>\n",
       "      <td>6.0</td>\n",
       "      <td>16.8</td>\n",
       "      <td>Thu Oct 21 06:35:28 2021</td>\n",
       "      <td>2021-10</td>\n",
       "      <td>0</td>\n",
       "      <td>[6]</td>\n",
       "    </tr>\n",
       "    <tr>\n",
       "      <th>3</th>\n",
       "      <td>lamvkeomppel4gnxyd</td>\n",
       "      <td>prod_5</td>\n",
       "      <td>32.0</td>\n",
       "      <td>62.97</td>\n",
       "      <td>Thu Oct 21 06:35:28 2021</td>\n",
       "      <td>2021-10</td>\n",
       "      <td>0</td>\n",
       "      <td>[32]</td>\n",
       "    </tr>\n",
       "    <tr>\n",
       "      <th>4</th>\n",
       "      <td>lamvkeomppel4gnxyd</td>\n",
       "      <td>prod_7</td>\n",
       "      <td>18.0</td>\n",
       "      <td>17.43</td>\n",
       "      <td>Thu Oct 21 06:35:28 2021</td>\n",
       "      <td>2021-10</td>\n",
       "      <td>0</td>\n",
       "      <td>[18]</td>\n",
       "    </tr>\n",
       "  </tbody>\n",
       "</table>\n",
       "</div>"
      ],
      "text/plain": [
       "                   id product   qnt  price                      date    month  \\\n",
       "0  lamvkeomppel4gnxyd  prod_0  35.0  45.06  Thu Oct 21 06:35:28 2021  2021-10   \n",
       "1  lamvkeomppel4gnxyd  prod_1  43.0  53.21  Thu Oct 21 06:35:28 2021  2021-10   \n",
       "2  lamvkeomppel4gnxyd  prod_4   6.0   16.8  Thu Oct 21 06:35:28 2021  2021-10   \n",
       "3  lamvkeomppel4gnxyd  prod_5  32.0  62.97  Thu Oct 21 06:35:28 2021  2021-10   \n",
       "4  lamvkeomppel4gnxyd  prod_7  18.0  17.43  Thu Oct 21 06:35:28 2021  2021-10   \n",
       "\n",
       "   week balance  \n",
       "0     0    [35]  \n",
       "1     0    [43]  \n",
       "2     0     [6]  \n",
       "3     0    [32]  \n",
       "4     0    [18]  "
      ]
     },
     "execution_count": 213,
     "metadata": {},
     "output_type": "execute_result"
    }
   ],
   "source": [
    "all_df.head()"
   ]
  },
  {
   "cell_type": "code",
   "execution_count": 227,
   "id": "77b3ba54",
   "metadata": {},
   "outputs": [],
   "source": [
    "def plot_prod_qnt(all_df):\n",
    "    group_qnt = all_df.groupby('product')['qnt'].sum()\n",
    "    df_prod = pd.DataFrame(group_qnt)\n",
    "    plot_prod = df_prod.plot(kind='bar')\n",
    "    return plot_prod"
   ]
  },
  {
   "cell_type": "code",
   "execution_count": 232,
   "id": "597b79c5",
   "metadata": {},
   "outputs": [],
   "source": [
    "def plot_month_balance(all_df):\n",
    "    df_balance = all_df.copy()\n",
    "    df_balance['balance'] = df_balance['qnt'] * df_balance['price']\n",
    "    df_months_balance = pd.DataFrame(df_balance.groupby('month')['balance'].sum())\n",
    "    plot_months = df_months_balance.plot(kind='pie', subplots=True)\n",
    "    return plot_months"
   ]
  },
  {
   "cell_type": "code",
   "execution_count": 229,
   "id": "14be87d0",
   "metadata": {},
   "outputs": [
    {
     "data": {
      "text/plain": [
       "<AxesSubplot:xlabel='product'>"
      ]
     },
     "execution_count": 229,
     "metadata": {},
     "output_type": "execute_result"
    },
    {
     "data": {
      "image/png": "[encoded data removed]",
      "text/plain": [
       "<Figure size 432x288 with 1 Axes>"
      ]
     },
     "metadata": {
      "needs_background": "light"
     },
     "output_type": "display_data"
    }
   ],
   "source": [
    "plot_prod_qnt(all_df)"
   ]
  },
  {
   "cell_type": "code",
   "execution_count": 233,
   "id": "fd80a45f",
   "metadata": {},
   "outputs": [
    {
     "data": {
      "text/plain": [
       "array([<AxesSubplot:ylabel='balance'>], dtype=object)"
      ]
     },
     "execution_count": 233,
     "metadata": {},
     "output_type": "execute_result"
    },
    {
     "data": {
      "image/png": "[encoded data removed]",
      "text/plain": [
       "<Figure size 432x288 with 1 Axes>"
      ]
     },
     "metadata": {},
     "output_type": "display_data"
    }
   ],
   "source": [
    "plot_month_balance(all_df) "
   ]
  },
  {
   "cell_type": "code",
   "execution_count": null,
   "id": "32baa11c",
   "metadata": {},
   "outputs": [],
   "source": []
  }
 ],
 "metadata": {
  "kernelspec": {
   "display_name": "Python 3 (ipykernel)",
   "language": "python",
   "name": "python3"
  },
  "language_info": {
   "codemirror_mode": {
    "name": "ipython",
    "version": 3
   },
   "file_extension": ".py",
   "mimetype": "text/x-python",
   "name": "python",
   "nbconvert_exporter": "python",
   "pygments_lexer": "ipython3",
   "version": "3.9.7"
  }
 },
 "nbformat": 4,
 "nbformat_minor": 5
}
