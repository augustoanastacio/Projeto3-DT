{
 "cells": [
  {
   "cell_type": "code",
   "execution_count": null,
   "metadata": {},
   "outputs": [],
   "source": [
    "import requests\n",
    "import random\n",
    "import pandas as pd\n",
    "import time\n",
    "import math\n",
    "from copy import deepcopy\n",
    "from statistics import mean"
   ]
  },
  {
   "cell_type": "code",
   "execution_count": null,
   "metadata": {},
   "outputs": [],
   "source": [
    "def request() -> list:   \n",
    "    res = requests.get('http://localhost:3000/api/ep1')\n",
    "    return res.json()"
   ]
  },
  {
   "cell_type": "code",
   "execution_count": null,
   "metadata": {},
   "outputs": [],
   "source": [
    "def data_treatment(json:list):\n",
    "    for i in range(len(json)):\n",
    "        for key in json[i]:\n",
    "            if ('prod' in key):\n",
    "                if (type(json[i][key])!=dict):\n",
    "                    qnt = json[i][key]\n",
    "                    if (type(qnt)==str):\n",
    "                        qnt = float(qnt)                  \n",
    "                    if (qnt<0):\n",
    "                        qnt = 0\n",
    "                    if (key in [product for product in json[i] if ('prod' in product and (int(product[5]) < 9 and len(product) < 7))]):\n",
    "                        json[i][key] = {'qnt':[round(qnt)], 'price':None}\n",
    "                    else:\n",
    "                        json[i][key] = {'qnt':[qnt], 'price':None}\n",
    "        try:\n",
    "            json[i]['date'] = time.ctime(json[i]['date'])\n",
    "        except:\n",
    "            continue\n",
    "    return json"
   ]
  },
  {
   "cell_type": "code",
   "execution_count": null,
   "metadata": {},
   "outputs": [],
   "source": [
    "def generate_random_price(n_min=1.0, n_max=100.0) -> float:\n",
    "    return round(random.uniform(n_min, n_max), 2)"
   ]
  },
  {
   "cell_type": "code",
   "execution_count": null,
   "metadata": {},
   "outputs": [],
   "source": [
    "def logistic_function(v: float) -> float:\n",
    "    return 0.5 + (1 / (1 + math.e ** -v))"
   ]
  },
  {
   "cell_type": "code",
   "execution_count": null,
   "metadata": {},
   "outputs": [],
   "source": [
    "def calc_qnt_variation(last_week: list, current_week: list) -> float:\n",
    "    return mean(current_week) - mean(last_week) / mean(last_week) if (mean(last_week) != 0) else 0"
   ]
  },
  {
   "cell_type": "code",
   "execution_count": null,
   "metadata": {},
   "outputs": [],
   "source": [
    "def calc_new_price(product_db: dict, sales_week: dict) -> dict:\n",
    "    for product in product_db:\n",
    "        if (product_db[product]['qnt'] != None):\n",
    "            if (product not in sales_week.keys()):\n",
    "                sales_week[product] = [0]\n",
    "            product_db[product]['next_week_price'] = logistic_function(calc_qnt_variation(product_db[product]['qnt'], sales_week[product])) * product_db[product]['price']\n",
    "        product_db[product]['qnt'] = sales_week[product]               \n",
    "    return product_db"
   ]
  },
  {
   "cell_type": "code",
   "execution_count": null,
   "metadata": {},
   "outputs": [],
   "source": [
    "def product_pricing(json: list, product_db: dict) -> tuple:\n",
    "    sales_week = {}\n",
    "\n",
    "    for transaction in json:\n",
    "        for key in transaction:\n",
    "            if ('prod' in key):\n",
    "                if (key not in product_db.keys()):\n",
    "                    transaction[key]['price'] = generate_random_price()\n",
    "                    sales_week[key] = deepcopy(transaction[key]['qnt'])\n",
    "                    product_db[key] = deepcopy(transaction[key])\n",
    "                    product_db[key]['qnt'] = None\n",
    "                    product_db[key]['next_week_price'] = product_db[key]['price']              \n",
    "                else:\n",
    "                    transaction[key]['price'] = deepcopy(product_db[key]['next_week_price'])\n",
    "                    product_db[key]['price'] = product_db[key]['next_week_price']\n",
    "                    if (key not in sales_week.keys()):\n",
    "                        sales_week[key] = deepcopy(transaction[key]['qnt'])\n",
    "                    else:\n",
    "                        sales_week[key] += deepcopy(transaction[key]['qnt'])\n",
    "\n",
    "    product_db = calc_new_price(product_db, sales_week)\n",
    "\n",
    "    return json, product_db"
   ]
  },
  {
   "cell_type": "code",
   "execution_count": null,
   "metadata": {},
   "outputs": [],
   "source": [
    "\n",
    "product_database = {}\n",
    "weeks = 3\n",
    "resumo = pd.DataFrame(columns = ['produto', 'soma', 'preço','receita','week'])\n",
    "\n",
    "\n",
    "for week in range(weeks):\n",
    "    json = data_treatment(request())\n",
    "    json, product_database = product_pricing(json, product_database)\n",
    "\n",
    "    json_db = pd.DataFrame(json)\n",
    "    product_database_db = pd.DataFrame(product_database)\n",
    "\n",
    "    print(f'\\nSemana {week + 1}:\\n')\n",
    "    print('Json:')\n",
    "    display(json_db)\n",
    "    print('\\nproduct_database:')\n",
    "    display(product_database_db)\n",
    "    semana = 'week' + str(week + 1)\n",
    "    result_semanal =  resume(product_database_db, semana)\n",
    "    resumo = resumo.merge(result_semanal, how = 'outer')\n",
    "    \n",
    "resumo.to_csv('weekly_prices.csv')\n"
   ]
  },
  {
   "cell_type": "code",
   "execution_count": null,
   "metadata": {},
   "outputs": [],
   "source": [
    "\n",
    "def resume (produtos, semana):\n",
    "\n",
    "   df = produtos.copy()\n",
    "   somas = []\n",
    "   prices = []\n",
    "   colunas = list(df.columns)\n",
    "\n",
    "   for i in range(df.shape[1]):\n",
    "      somas.append(sum(df.iloc[0,i]))\n",
    "      prices.append(df.iloc[1,i])\n",
    "      \n",
    "   lista_de_tuplas = list(zip(colunas, somas, prices))\n",
    "   new_df = pd.DataFrame(lista_de_tuplas, columns = ['produto', 'soma', 'preço'])\n",
    "   new_df['receita'] = new_df['soma'] * new_df['preço']\n",
    "   \n",
    "   new_df['week'] = semana\n",
    "   \n",
    "   return new_df\n",
    "# este código já me dá a receita por semana, mas não por venda"
   ]
  },
  {
   "cell_type": "code",
   "execution_count": 17,
   "metadata": {},
   "outputs": [
    {
     "data": {
      "text/html": [
       "<div>\n",
       "<style scoped>\n",
       "    .dataframe tbody tr th:only-of-type {\n",
       "        vertical-align: middle;\n",
       "    }\n",
       "\n",
       "    .dataframe tbody tr th {\n",
       "        vertical-align: top;\n",
       "    }\n",
       "\n",
       "    .dataframe thead th {\n",
       "        text-align: right;\n",
       "    }\n",
       "</style>\n",
       "<table border=\"1\" class=\"dataframe\">\n",
       "  <thead>\n",
       "    <tr style=\"text-align: right;\">\n",
       "      <th>produto</th>\n",
       "      <th>prod_0</th>\n",
       "      <th>prod_1</th>\n",
       "      <th>prod_10</th>\n",
       "      <th>prod_11</th>\n",
       "      <th>prod_2</th>\n",
       "      <th>prod_3</th>\n",
       "      <th>prod_4</th>\n",
       "      <th>prod_5</th>\n",
       "      <th>prod_6</th>\n",
       "      <th>prod_7</th>\n",
       "      <th>prod_8</th>\n",
       "      <th>prod_9</th>\n",
       "    </tr>\n",
       "    <tr>\n",
       "      <th>week</th>\n",
       "      <th></th>\n",
       "      <th></th>\n",
       "      <th></th>\n",
       "      <th></th>\n",
       "      <th></th>\n",
       "      <th></th>\n",
       "      <th></th>\n",
       "      <th></th>\n",
       "      <th></th>\n",
       "      <th></th>\n",
       "      <th></th>\n",
       "      <th></th>\n",
       "    </tr>\n",
       "  </thead>\n",
       "  <tbody>\n",
       "    <tr>\n",
       "      <th>week1</th>\n",
       "      <td>26.290</td>\n",
       "      <td>61.24</td>\n",
       "      <td>53.310</td>\n",
       "      <td>49.310</td>\n",
       "      <td>59.550</td>\n",
       "      <td>53.250</td>\n",
       "      <td>65.850000</td>\n",
       "      <td>39.36</td>\n",
       "      <td>53.170000</td>\n",
       "      <td>96.670</td>\n",
       "      <td>1.330</td>\n",
       "      <td>53.490</td>\n",
       "    </tr>\n",
       "    <tr>\n",
       "      <th>week2</th>\n",
       "      <td>26.290</td>\n",
       "      <td>61.24</td>\n",
       "      <td>53.310</td>\n",
       "      <td>49.310</td>\n",
       "      <td>59.550</td>\n",
       "      <td>53.250</td>\n",
       "      <td>65.850000</td>\n",
       "      <td>39.36</td>\n",
       "      <td>53.170000</td>\n",
       "      <td>96.670</td>\n",
       "      <td>1.330</td>\n",
       "      <td>53.490</td>\n",
       "    </tr>\n",
       "    <tr>\n",
       "      <th>week3</th>\n",
       "      <td>39.435</td>\n",
       "      <td>91.86</td>\n",
       "      <td>79.965</td>\n",
       "      <td>73.965</td>\n",
       "      <td>89.325</td>\n",
       "      <td>79.875</td>\n",
       "      <td>98.774999</td>\n",
       "      <td>59.04</td>\n",
       "      <td>79.754998</td>\n",
       "      <td>145.005</td>\n",
       "      <td>1.995</td>\n",
       "      <td>80.235</td>\n",
       "    </tr>\n",
       "  </tbody>\n",
       "</table>\n",
       "</div>"
      ],
      "text/plain": [
       "produto  prod_0  prod_1  prod_10  prod_11  prod_2  prod_3     prod_4  prod_5  \\\n",
       "week                                                                           \n",
       "week1    26.290   61.24   53.310   49.310  59.550  53.250  65.850000   39.36   \n",
       "week2    26.290   61.24   53.310   49.310  59.550  53.250  65.850000   39.36   \n",
       "week3    39.435   91.86   79.965   73.965  89.325  79.875  98.774999   59.04   \n",
       "\n",
       "produto     prod_6   prod_7  prod_8  prod_9  \n",
       "week                                         \n",
       "week1    53.170000   96.670   1.330  53.490  \n",
       "week2    53.170000   96.670   1.330  53.490  \n",
       "week3    79.754998  145.005   1.995  80.235  "
      ]
     },
     "execution_count": 17,
     "metadata": {},
     "output_type": "execute_result"
    }
   ],
   "source": [
    "novo_df = resumo.reset_index()\n",
    "df_parcial = novo_df.pivot(index = 'week', columns = 'produto', values = 'preço')\n",
    "df_resultado = df_parcial.fillna(0)\n",
    "df_resultado"
   ]
  }
 ],
 "metadata": {
  "kernelspec": {
   "display_name": "Python 3.9.7 ('base')",
   "language": "python",
   "name": "python3"
  },
  "language_info": {
   "codemirror_mode": {
    "name": "ipython",
    "version": 3
   },
   "file_extension": ".py",
   "mimetype": "text/x-python",
   "name": "python",
   "nbconvert_exporter": "python",
   "pygments_lexer": "ipython3",
   "version": "3.9.7"
  },
  "orig_nbformat": 4,
  "vscode": {
   "interpreter": {
    "hash": "ad2bdc8ecc057115af97d19610ffacc2b4e99fae6737bb82f5d7fb13d2f2c186"
   }
  }
 },
 "nbformat": 4,
 "nbformat_minor": 2
}
