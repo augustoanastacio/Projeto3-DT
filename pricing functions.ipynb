{
 "cells": [
  {
   "cell_type": "markdown",
   "metadata": {},
   "source": [
    "## Library"
   ]
  },
  {
   "cell_type": "code",
   "execution_count": 211,
   "metadata": {},
   "outputs": [],
   "source": [
    "import requests\n",
    "import random\n",
    "import time\n",
    "import math\n",
    "from copy import deepcopy\n",
    "from statistics import mean"
   ]
  },
  {
   "cell_type": "markdown",
   "metadata": {},
   "source": [
    "## Notebook"
   ]
  },
  {
   "cell_type": "markdown",
   "metadata": {},
   "source": [
    "#### Requisição"
   ]
  },
  {
   "cell_type": "code",
   "execution_count": 60,
   "metadata": {},
   "outputs": [],
   "source": [
    "def request() -> list:   \n",
    "    res = requests.get('http://localhost:3000/api/ep1')\n",
    "    return res.json()"
   ]
  },
  {
   "cell_type": "markdown",
   "metadata": {},
   "source": [
    "#### Tratamento de Dados"
   ]
  },
  {
   "cell_type": "code",
   "execution_count": 62,
   "metadata": {},
   "outputs": [],
   "source": [
    "def data_treatment(json:list):\n",
    "    for i in range(len(json)):\n",
    "        for key in json[i]:\n",
    "            if ('prod' in key):\n",
    "                if (type(json[i][key])!=dict):\n",
    "                    qnt = json[i][key]\n",
    "                    if (type(qnt)==str):\n",
    "                        qnt = float(qnt)                  \n",
    "                    if (qnt<0):\n",
    "                        qnt = 0\n",
    "                        json[i][key] = {'qnt':[qnt], 'price':None} # Mudei para a quantidade ser uma lista\n",
    "                    else:\n",
    "                        json[i][key] = {'qnt':[qnt], 'price':None} # Mudei para a quantidade ser uma lista\n",
    "        try:\n",
    "            json[i]['date'] = time.ctime(json[i]['date'])\n",
    "        except:\n",
    "            continue\n",
    "    return json"
   ]
  },
  {
   "cell_type": "markdown",
   "metadata": {},
   "source": [
    "#### Gerar valores aleatórios"
   ]
  },
  {
   "cell_type": "code",
   "execution_count": 61,
   "metadata": {},
   "outputs": [],
   "source": [
    "def generate_random_price() -> float:\n",
    "    return round(random.random() * 100, 2)"
   ]
  },
  {
   "cell_type": "markdown",
   "metadata": {},
   "source": [
    "#### Precificação"
   ]
  },
  {
   "cell_type": "markdown",
   "metadata": {},
   "source": [
    "##### Função logistica -> A mesma postada no doc pelo professor"
   ]
  },
  {
   "cell_type": "code",
   "execution_count": 212,
   "metadata": {},
   "outputs": [],
   "source": [
    "def logistic_function(v: float) -> float:\n",
    "    return 0.5 + (1 / 1 + math.e)**(-1 * v)"
   ]
  },
  {
   "cell_type": "markdown",
   "metadata": {},
   "source": [
    "##### Função para calcular a variação -> A mesma postada no doc pelo professor"
   ]
  },
  {
   "cell_type": "code",
   "execution_count": 194,
   "metadata": {},
   "outputs": [],
   "source": [
    "def calc_qnt_variation(last_week: list, current_week: list) -> float:\n",
    "    return mean(current_week) - mean(last_week) / mean(last_week) if (mean(last_week) != 0) else 0"
   ]
  },
  {
   "cell_type": "markdown",
   "metadata": {},
   "source": [
    "##### Função que calcula o preço que será utilizado na semana seguinte"
   ]
  },
  {
   "cell_type": "code",
   "execution_count": 222,
   "metadata": {},
   "outputs": [],
   "source": [
    "def calc_new_price(product_db: dict, sales_week: dict) -> dict:\n",
    "    for product in product_db:\n",
    "        if (product_db[product]['qnt'] != None):\n",
    "            if (product not in sales_week.keys()):\n",
    "                sales_week[product] = [0]\n",
    "            product_db[product]['price'] = logistic_function(calc_qnt_variation(product_db[product]['qnt'], sales_week[product])) * product_db[product]['price']\n",
    "        product_db[product]['qnt'] = sales_week[product]               \n",
    "    return product_db"
   ]
  },
  {
   "cell_type": "markdown",
   "metadata": {},
   "source": [
    "##### Função que atualiza o banco de dados (onde consta a quantidade de vendas da última semana e o preço dos produtos) e aplica o preço nos produtos do JSON"
   ]
  },
  {
   "cell_type": "code",
   "execution_count": 208,
   "metadata": {},
   "outputs": [],
   "source": [
    "def product_pricing(json: list, product_db: dict) -> tuple:\n",
    "    sales_week = {}\n",
    "\n",
    "    for transaction in json:\n",
    "        for key in transaction:\n",
    "            if ('prod' in key):\n",
    "                if (key not in product_db.keys()):\n",
    "                    transaction[key]['price'] = generate_random_price()\n",
    "                    sales_week[key] = deepcopy(transaction[key]['qnt'])\n",
    "                    product_db[key] = deepcopy(transaction[key])\n",
    "                    product_db[key]['qnt'] = None              \n",
    "                else:\n",
    "                    transaction[key]['price'] = deepcopy(product_db[key]['price'])\n",
    "                    if (key not in sales_week.keys()):\n",
    "                        sales_week[key] = deepcopy(transaction[key]['qnt'])\n",
    "                    else:\n",
    "                        sales_week[key] += deepcopy(transaction[key]['qnt'])\n",
    "\n",
    "    product_db = calc_new_price(product_db, sales_week)\n",
    "\n",
    "    return json, product_db"
   ]
  },
  {
   "cell_type": "markdown",
   "metadata": {},
   "source": [
    "#### Main"
   ]
  },
  {
   "cell_type": "code",
   "execution_count": null,
   "metadata": {},
   "outputs": [],
   "source": [
    "product_database = {}\n",
    "weeks = 5\n",
    "\n",
    "for week in range(weeks):\n",
    "    json = data_treatment(request())\n",
    "    json, product_database = product_pricing(json, product_database)\n",
    "\n",
    "    print(f'Semana {week}:\\n'\n",
    "          f'Js - {json}\\n\\n'\n",
    "          f'Db - {product_database}\\n\\n\\n')"
   ]
  }
 ],
 "metadata": {
  "kernelspec": {
   "display_name": "Python 3.10.7 64-bit",
   "language": "python",
   "name": "python3"
  },
  "language_info": {
   "codemirror_mode": {
    "name": "ipython",
    "version": 3
   },
   "file_extension": ".py",
   "mimetype": "text/x-python",
   "name": "python",
   "nbconvert_exporter": "python",
   "pygments_lexer": "ipython3",
   "version": "3.10.7"
  },
  "orig_nbformat": 4,
  "vscode": {
   "interpreter": {
    "hash": "37083a178839ddb6837eca99e3841ef7be6dad5dc50c6d19829e2187d61ddd5d"
   }
  }
 },
 "nbformat": 4,
 "nbformat_minor": 2
}
